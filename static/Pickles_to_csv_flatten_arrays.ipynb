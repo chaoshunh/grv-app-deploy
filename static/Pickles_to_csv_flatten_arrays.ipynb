{
 "cells": [
  {
   "cell_type": "code",
   "execution_count": 15,
   "metadata": {},
   "outputs": [],
   "source": [
    "# imports\n",
    "import numpy as np\n",
    "import timeit"
   ]
  },
  {
   "cell_type": "code",
   "execution_count": 2,
   "metadata": {},
   "outputs": [],
   "source": [
    "# read files\n",
    "f1 = np.load('entropy_20180610.npy')\n",
    "f2 = np.load('mid_unit.npy')\n",
    "f3 = np.load('realisation_1_10.npy')"
   ]
  },
  {
   "cell_type": "code",
   "execution_count": 3,
   "metadata": {},
   "outputs": [
    {
     "data": {
      "text/plain": [
       "((250, 162, 100), (250, 162, 100), (250, 162, 100, 200))"
      ]
     },
     "execution_count": 3,
     "metadata": {},
     "output_type": "execute_result"
    }
   ],
   "source": [
    "# file shape\n",
    "f1.shape, f2.shape, f3.shape"
   ]
  },
  {
   "cell_type": "code",
   "execution_count": 4,
   "metadata": {},
   "outputs": [
    {
     "data": {
      "text/plain": [
       "(4050000, 4050000, 810000000)"
      ]
     },
     "execution_count": 4,
     "metadata": {},
     "output_type": "execute_result"
    }
   ],
   "source": [
    "# file size\n",
    "f1.size, f2.size, f3.size"
   ]
  },
  {
   "cell_type": "code",
   "execution_count": 5,
   "metadata": {},
   "outputs": [],
   "source": [
    "# save as array\n",
    "f1_array = np.array(f1)\n",
    "f2_array = np.array(f2)\n",
    "f3_array = np.array(f3)"
   ]
  },
  {
   "cell_type": "code",
   "execution_count": 6,
   "metadata": {},
   "outputs": [],
   "source": [
    "# flatten to 2D array\n",
    "f1_array_flat = f1_array.reshape(250,16200)\n",
    "f2_array_flat = f2_array.reshape(250,16200)\n",
    "f3_array_flat = f3_array.reshape(250, 3240000)"
   ]
  },
  {
   "cell_type": "code",
   "execution_count": 7,
   "metadata": {},
   "outputs": [],
   "source": [
    "# reshape to original dimensions\n",
    "f1_array_reshaped = f1_array_flat.reshape(250, 162, 100)\n",
    "f2_array_reshaped = f2_array_flat.reshape(250, 162, 100)\n",
    "f3_array_reshaped = f3_array_flat.reshape(250, 162, 100, 200)"
   ]
  },
  {
   "cell_type": "code",
   "execution_count": 12,
   "metadata": {},
   "outputs": [
    {
     "data": {
      "text/plain": [
       "True"
      ]
     },
     "execution_count": 12,
     "metadata": {},
     "output_type": "execute_result"
    }
   ],
   "source": [
    "# check if arrays equal after reshape\n",
    "np.array_equal(f1_array, f1_array_reshaped),\n",
    "np.array_equal(f2_array, f2_array_reshaped),\n",
    "np.array_equal(f3_array, f3_array_reshaped)"
   ]
  },
  {
   "cell_type": "code",
   "execution_count": 13,
   "metadata": {},
   "outputs": [],
   "source": [
    "# save to csv\n",
    "np.savetxt(\"f1_array_flat.csv\", f1_array_flat, delimiter=',')\n",
    "np.savetxt(\"f2_array_flat.csv\", f2_array_flat, delimiter=',')\n",
    "np.savetxt(\"f3_array_flat.csv\", f3_array_flat, delimiter=',')"
   ]
  },
  {
   "cell_type": "code",
   "execution_count": 14,
   "metadata": {},
   "outputs": [],
   "source": [
    "# save to npy\n",
    "np.save(\"f1_array_flat\", f1_array_flat, allow_pickle=False)\n",
    "np.save(\"f2_array_flat\", f2_array_flat, allow_pickle=False)\n",
    "np.save(\"f3_array_flat\", f3_array_flat, allow_pickle=False)"
   ]
  },
  {
   "cell_type": "code",
   "execution_count": 17,
   "metadata": {},
   "outputs": [
    {
     "name": "stdout",
     "output_type": "stream",
     "text": [
      "34.2 ms ± 980 µs per loop (mean ± std. dev. of 7 runs, 10 loops each)\n"
     ]
    }
   ],
   "source": [
    "%timeit np.save(\"testnpy\", f1_array_flat, allow_pickle=False)"
   ]
  },
  {
   "cell_type": "code",
   "execution_count": 18,
   "metadata": {},
   "outputs": [
    {
     "name": "stdout",
     "output_type": "stream",
     "text": [
      "2.34 s ± 69.7 ms per loop (mean ± std. dev. of 7 runs, 1 loop each)\n"
     ]
    }
   ],
   "source": [
    "%timeit np.savetxt(\"testcsv.csv\", f1_array_flat, delimiter=',')"
   ]
  },
  {
   "cell_type": "code",
   "execution_count": null,
   "metadata": {},
   "outputs": [],
   "source": []
  }
 ],
 "metadata": {
  "kernelspec": {
   "display_name": "geocomp",
   "language": "python",
   "name": "geocomp"
  },
  "language_info": {
   "codemirror_mode": {
    "name": "ipython",
    "version": 3
   },
   "file_extension": ".py",
   "mimetype": "text/x-python",
   "name": "python",
   "nbconvert_exporter": "python",
   "pygments_lexer": "ipython3",
   "version": "3.6.5"
  }
 },
 "nbformat": 4,
 "nbformat_minor": 2
}
